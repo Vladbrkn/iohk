{
 "cells": [
  {
   "cell_type": "code",
   "execution_count": 1,
   "metadata": {},
   "outputs": [],
   "source": [
    "import matplotlib.pyplot as plt\n",
    "import numpy as np\n",
    "import pandas as pd\n",
    "import seaborn as sns\n",
    "from helpers.helper import calculate_terms, calculate_write_off_rate, calculate_interest_metrics, calculate_avg_days_in_arrears"
   ]
  },
  {
   "cell_type": "code",
   "execution_count": 2,
   "metadata": {},
   "outputs": [],
   "source": [
    "pd.set_option('display.max_columns', None)"
   ]
  },
  {
   "cell_type": "code",
   "execution_count": 3,
   "metadata": {},
   "outputs": [
    {
     "name": "stderr",
     "output_type": "stream",
     "text": [
      "C:\\Users\\vladb\\AppData\\Local\\Temp\\ipykernel_39712\\3427265589.py:1: DtypeWarning: Columns (11) have mixed types. Specify dtype option on import or set low_memory=False.\n",
      "  loans = pd.read_csv('~\\Desktop\\iohk_docs\\_loans.csv')\n"
     ]
    }
   ],
   "source": [
    "loans = pd.read_csv('~\\Desktop\\iohk_docs\\_loans.csv')\n",
    "payments = pd.read_csv('~\\Desktop\\iohk_docs\\_payments.csv')\n",
    "borrowers = pd.read_csv('~\\Desktop\\iohk_docs\\_borrowers.csv')"
   ]
  },
  {
   "cell_type": "markdown",
   "metadata": {},
   "source": [
    "## Loans"
   ]
  },
  {
   "cell_type": "code",
   "execution_count": 4,
   "metadata": {},
   "outputs": [],
   "source": [
    "loans_omit_cols = ['as_of_datetime', 'issue_date', 'maturity_date', 'closing_date', 'write_off_date', 'default_date']\n",
    "loans = loans.apply(lambda x: x.astype('category') if x.dtype == 'object' and x.name not in loans_omit_cols else x)"
   ]
  },
  {
   "cell_type": "code",
   "execution_count": 5,
   "metadata": {},
   "outputs": [
    {
     "data": {
      "text/html": [
       "<div>\n",
       "<style scoped>\n",
       "    .dataframe tbody tr th:only-of-type {\n",
       "        vertical-align: middle;\n",
       "    }\n",
       "\n",
       "    .dataframe tbody tr th {\n",
       "        vertical-align: top;\n",
       "    }\n",
       "\n",
       "    .dataframe thead th {\n",
       "        text-align: right;\n",
       "    }\n",
       "</style>\n",
       "<table border=\"1\" class=\"dataframe\">\n",
       "  <thead>\n",
       "    <tr style=\"text-align: right;\">\n",
       "      <th></th>\n",
       "      <th>as_of_datetime</th>\n",
       "      <th>loan_id</th>\n",
       "      <th>borrower_id</th>\n",
       "      <th>issue_date</th>\n",
       "      <th>maturity_date</th>\n",
       "      <th>closing_date</th>\n",
       "      <th>currency</th>\n",
       "      <th>principal_amount</th>\n",
       "      <th>interest_rate</th>\n",
       "      <th>write_off_date</th>\n",
       "      <th>write_off_amount</th>\n",
       "      <th>default_date</th>\n",
       "      <th>default_amount</th>\n",
       "      <th>product_name</th>\n",
       "      <th>penalties</th>\n",
       "      <th>fees</th>\n",
       "      <th>total_outstanding</th>\n",
       "    </tr>\n",
       "  </thead>\n",
       "  <tbody>\n",
       "    <tr>\n",
       "      <th>1481</th>\n",
       "      <td>2024-02-01 00:00:00</td>\n",
       "      <td>S0VfS1VfMjA2MDA5</td>\n",
       "      <td>S0VfS1VfMTYxMTA1OTUyN2d3WXZyOVZoVVg=</td>\n",
       "      <td>2021-01-19</td>\n",
       "      <td>0019-03-20</td>\n",
       "      <td>2021-03-31</td>\n",
       "      <td>KES</td>\n",
       "      <td>40000.0</td>\n",
       "      <td>0.0</td>\n",
       "      <td>2021-03-31</td>\n",
       "      <td>40000.0</td>\n",
       "      <td>NaN</td>\n",
       "      <td>NaN</td>\n",
       "      <td>ProLoan</td>\n",
       "      <td>0.0</td>\n",
       "      <td>0.0</td>\n",
       "      <td>40000.0</td>\n",
       "    </tr>\n",
       "  </tbody>\n",
       "</table>\n",
       "</div>"
      ],
      "text/plain": [
       "           as_of_datetime           loan_id  \\\n",
       "1481  2024-02-01 00:00:00  S0VfS1VfMjA2MDA5   \n",
       "\n",
       "                               borrower_id  issue_date maturity_date  \\\n",
       "1481  S0VfS1VfMTYxMTA1OTUyN2d3WXZyOVZoVVg=  2021-01-19    0019-03-20   \n",
       "\n",
       "     closing_date currency  principal_amount  interest_rate write_off_date  \\\n",
       "1481   2021-03-31      KES           40000.0            0.0     2021-03-31   \n",
       "\n",
       "      write_off_amount default_date  default_amount product_name  penalties  \\\n",
       "1481           40000.0          NaN             NaN      ProLoan        0.0   \n",
       "\n",
       "      fees  total_outstanding  \n",
       "1481   0.0            40000.0  "
      ]
     },
     "execution_count": 5,
     "metadata": {},
     "output_type": "execute_result"
    }
   ],
   "source": [
    "invalid_entry = loans[loans['maturity_date'] == '0019-03-20']\n",
    "invalid_entry.head(1)"
   ]
  },
  {
   "cell_type": "code",
   "execution_count": 6,
   "metadata": {},
   "outputs": [],
   "source": [
    "invalid_maturity_dates = loans[\n",
    "    (loans['maturity_date'].isna()) | \n",
    "    (loans['maturity_date'].astype(str) < loans['issue_date'].astype(str))\n",
    "]\n",
    "loans = loans[~loans['loan_id'].isin(invalid_maturity_dates['loan_id'])]\n"
   ]
  },
  {
   "cell_type": "code",
   "execution_count": 7,
   "metadata": {},
   "outputs": [],
   "source": [
    "loans_date_omit_col = ['as_of_datetime']\n",
    "\n",
    "loans = loans.apply(lambda x: pd.to_datetime(x, format='%Y-%m-%d') if x.dtype == 'object' and x.name not in loans_date_omit_col else x)\n",
    "loans['as_of_datetime'] = pd.to_datetime(loans['as_of_datetime'])"
   ]
  },
  {
   "cell_type": "code",
   "execution_count": 8,
   "metadata": {},
   "outputs": [
    {
     "name": "stdout",
     "output_type": "stream",
     "text": [
      "<class 'pandas.core.frame.DataFrame'>\n",
      "Index: 2757862 entries, 0 to 2757981\n",
      "Data columns (total 17 columns):\n",
      " #   Column             Non-Null Count    Dtype         \n",
      "---  ------             --------------    -----         \n",
      " 0   as_of_datetime     2757862 non-null  datetime64[ns]\n",
      " 1   loan_id            2757862 non-null  category      \n",
      " 2   borrower_id        2745040 non-null  category      \n",
      " 3   issue_date         2757862 non-null  datetime64[ns]\n",
      " 4   maturity_date      2757862 non-null  datetime64[ns]\n",
      " 5   closing_date       2757680 non-null  datetime64[ns]\n",
      " 6   currency           2757862 non-null  category      \n",
      " 7   principal_amount   2757862 non-null  float64       \n",
      " 8   interest_rate      2757862 non-null  float64       \n",
      " 9   write_off_date     2315778 non-null  datetime64[ns]\n",
      " 10  write_off_amount   2315778 non-null  float64       \n",
      " 11  default_date       210 non-null      datetime64[ns]\n",
      " 12  default_amount     210 non-null      float64       \n",
      " 13  product_name       2757862 non-null  category      \n",
      " 14  penalties          2757862 non-null  float64       \n",
      " 15  fees               2757862 non-null  float64       \n",
      " 16  total_outstanding  2757862 non-null  float64       \n",
      "dtypes: category(4), datetime64[ns](6), float64(7)\n",
      "memory usage: 352.5 MB\n"
     ]
    }
   ],
   "source": [
    "loans.info(show_counts=True)"
   ]
  },
  {
   "cell_type": "markdown",
   "metadata": {},
   "source": [
    "## Payments"
   ]
  },
  {
   "cell_type": "code",
   "execution_count": 9,
   "metadata": {},
   "outputs": [],
   "source": [
    "payment_omit_col = ['payment_date']\n",
    "payments = payments.apply(lambda x: x.astype('category') if x.dtype == 'object' and x.name not in payment_omit_col else x)"
   ]
  },
  {
   "cell_type": "code",
   "execution_count": 10,
   "metadata": {},
   "outputs": [],
   "source": [
    "payments['payment_date'] = pd.to_datetime(payments['payment_date'], format='%Y-%m-%d')"
   ]
  },
  {
   "cell_type": "code",
   "execution_count": 11,
   "metadata": {},
   "outputs": [],
   "source": [
    "payments = payments.dropna(subset=['payment_date'])"
   ]
  },
  {
   "cell_type": "code",
   "execution_count": 12,
   "metadata": {},
   "outputs": [
    {
     "name": "stdout",
     "output_type": "stream",
     "text": [
      "<class 'pandas.core.frame.DataFrame'>\n",
      "Index: 5681730 entries, 0 to 5681805\n",
      "Data columns (total 6 columns):\n",
      " #   Column        Non-Null Count    Dtype         \n",
      "---  ------        --------------    -----         \n",
      " 0   payment_id    5681653 non-null  category      \n",
      " 1   payment_date  5681730 non-null  datetime64[ns]\n",
      " 2   loan_id       5681730 non-null  category      \n",
      " 3   currency      5681730 non-null  category      \n",
      " 4   amount        5681730 non-null  float64       \n",
      " 5   type          5681730 non-null  category      \n",
      "dtypes: category(4), datetime64[ns](1), float64(1)\n",
      "memory usage: 398.4 MB\n"
     ]
    }
   ],
   "source": [
    "payments.info(show_counts=True)"
   ]
  },
  {
   "cell_type": "markdown",
   "metadata": {},
   "source": [
    "## Borrowers"
   ]
  },
  {
   "cell_type": "code",
   "execution_count": 13,
   "metadata": {},
   "outputs": [],
   "source": [
    "borrowers = borrowers.sort_values(by='as_of_datetime', ascending=False)\n",
    "borrowers = borrowers.drop_duplicates(subset=['borrower_id'], keep='first')"
   ]
  },
  {
   "cell_type": "code",
   "execution_count": 14,
   "metadata": {},
   "outputs": [],
   "source": [
    "borrowers = borrowers[(borrowers['date_of_birth'] >= '1924-01-01') & (borrowers['date_of_birth'] <= '2005-07-01')]\n",
    "\n",
    "borrowers[['as_of_datetime', 'date_of_birth']] = borrowers[['as_of_datetime', 'date_of_birth']].apply(pd.to_datetime)"
   ]
  },
  {
   "cell_type": "code",
   "execution_count": 15,
   "metadata": {},
   "outputs": [],
   "source": [
    "borrower_omit_col = ['as_of_datetime', 'date_of_birth']\n",
    "borrowers = borrowers.apply(lambda x: x.astype('category') if x.dtype == 'object' and x.name not in borrower_omit_col else x)"
   ]
  },
  {
   "cell_type": "code",
   "execution_count": 16,
   "metadata": {},
   "outputs": [
    {
     "name": "stdout",
     "output_type": "stream",
     "text": [
      "<class 'pandas.core.frame.DataFrame'>\n",
      "Index: 428861 entries, 4282096 to 242941\n",
      "Data columns (total 6 columns):\n",
      " #   Column              Non-Null Count   Dtype         \n",
      "---  ------              --------------   -----         \n",
      " 0   as_of_datetime      428861 non-null  datetime64[ns]\n",
      " 1   borrower_id         428861 non-null  category      \n",
      " 2   gender              428861 non-null  category      \n",
      " 3   country             428861 non-null  category      \n",
      " 4   geo_classification  140929 non-null  category      \n",
      " 5   date_of_birth       428861 non-null  datetime64[ns]\n",
      "dtypes: category(4), datetime64[ns](2)\n",
      "memory usage: 32.1 MB\n"
     ]
    }
   ],
   "source": [
    "borrowers.info(show_counts=True)"
   ]
  },
  {
   "cell_type": "markdown",
   "metadata": {},
   "source": [
    "## Master data"
   ]
  },
  {
   "cell_type": "code",
   "execution_count": 17,
   "metadata": {},
   "outputs": [],
   "source": [
    "master_data = pd.merge(\n",
    "    pd.merge(loans, payments, how='left', on='loan_id'),\n",
    "    borrowers, how='left', on='borrower_id'\n",
    ")"
   ]
  },
  {
   "cell_type": "code",
   "execution_count": 18,
   "metadata": {},
   "outputs": [],
   "source": [
    "master_data = master_data.loc[:, ~master_data.columns.str.endswith('_y')]\n",
    "master_data = master_data.rename(columns=lambda x: x.replace('_x', '') if x.endswith('_x') else x)"
   ]
  },
  {
   "cell_type": "code",
   "execution_count": 19,
   "metadata": {},
   "outputs": [],
   "source": [
    "master_data = master_data.sort_values(by=['loan_id', 'as_of_datetime'], ascending=[True, False]) "
   ]
  },
  {
   "cell_type": "code",
   "execution_count": 20,
   "metadata": {},
   "outputs": [
    {
     "data": {
      "text/plain": [
       "(13414, 25)"
      ]
     },
     "execution_count": 20,
     "metadata": {},
     "output_type": "execute_result"
    }
   ],
   "source": [
    "invalid_borrower_loans = master_data[master_data['borrower_id'].isna() & master_data['loan_id'].notna()]\n",
    "invalid_borrower_loans.shape"
   ]
  },
  {
   "cell_type": "code",
   "execution_count": 21,
   "metadata": {},
   "outputs": [
    {
     "data": {
      "text/html": [
       "<div>\n",
       "<style scoped>\n",
       "    .dataframe tbody tr th:only-of-type {\n",
       "        vertical-align: middle;\n",
       "    }\n",
       "\n",
       "    .dataframe tbody tr th {\n",
       "        vertical-align: top;\n",
       "    }\n",
       "\n",
       "    .dataframe thead th {\n",
       "        text-align: right;\n",
       "    }\n",
       "</style>\n",
       "<table border=\"1\" class=\"dataframe\">\n",
       "  <thead>\n",
       "    <tr style=\"text-align: right;\">\n",
       "      <th></th>\n",
       "      <th>as_of_datetime</th>\n",
       "      <th>loan_id</th>\n",
       "      <th>borrower_id</th>\n",
       "      <th>issue_date</th>\n",
       "      <th>maturity_date</th>\n",
       "      <th>closing_date</th>\n",
       "      <th>currency</th>\n",
       "      <th>principal_amount</th>\n",
       "      <th>interest_rate</th>\n",
       "      <th>write_off_date</th>\n",
       "      <th>write_off_amount</th>\n",
       "      <th>default_date</th>\n",
       "      <th>default_amount</th>\n",
       "      <th>product_name</th>\n",
       "      <th>penalties</th>\n",
       "      <th>fees</th>\n",
       "      <th>total_outstanding</th>\n",
       "      <th>payment_id</th>\n",
       "      <th>payment_date</th>\n",
       "      <th>amount</th>\n",
       "      <th>type</th>\n",
       "      <th>gender</th>\n",
       "      <th>country</th>\n",
       "      <th>geo_classification</th>\n",
       "      <th>date_of_birth</th>\n",
       "    </tr>\n",
       "  </thead>\n",
       "  <tbody>\n",
       "    <tr>\n",
       "      <th>1434765</th>\n",
       "      <td>2024-10-01</td>\n",
       "      <td>S0VfS1VfIDI2NDUwMg==</td>\n",
       "      <td>S0VfS1VfMTYyNDYxMzEyOGN2S2tKTFZqeFk=</td>\n",
       "      <td>2022-02-12</td>\n",
       "      <td>2022-02-26</td>\n",
       "      <td>2022-04-30</td>\n",
       "      <td>KES</td>\n",
       "      <td>8000.0</td>\n",
       "      <td>0.075</td>\n",
       "      <td>2022-04-30</td>\n",
       "      <td>8960.0</td>\n",
       "      <td>NaT</td>\n",
       "      <td>NaN</td>\n",
       "      <td>ProLoan</td>\n",
       "      <td>360.0</td>\n",
       "      <td>0.0</td>\n",
       "      <td>8960.0</td>\n",
       "      <td>NaN</td>\n",
       "      <td>NaT</td>\n",
       "      <td>NaN</td>\n",
       "      <td>NaN</td>\n",
       "      <td>NaN</td>\n",
       "      <td>NaN</td>\n",
       "      <td>NaN</td>\n",
       "      <td>NaT</td>\n",
       "    </tr>\n",
       "    <tr>\n",
       "      <th>1434760</th>\n",
       "      <td>2024-09-01</td>\n",
       "      <td>S0VfS1VfIDI2NDUwMg==</td>\n",
       "      <td>S0VfS1VfMTYyNDYxMzEyOGN2S2tKTFZqeFk=</td>\n",
       "      <td>2022-02-12</td>\n",
       "      <td>2022-02-26</td>\n",
       "      <td>2022-04-30</td>\n",
       "      <td>KES</td>\n",
       "      <td>8000.0</td>\n",
       "      <td>0.075</td>\n",
       "      <td>2022-04-30</td>\n",
       "      <td>8960.0</td>\n",
       "      <td>NaT</td>\n",
       "      <td>NaN</td>\n",
       "      <td>ProLoan</td>\n",
       "      <td>360.0</td>\n",
       "      <td>0.0</td>\n",
       "      <td>8960.0</td>\n",
       "      <td>NaN</td>\n",
       "      <td>NaT</td>\n",
       "      <td>NaN</td>\n",
       "      <td>NaN</td>\n",
       "      <td>NaN</td>\n",
       "      <td>NaN</td>\n",
       "      <td>NaN</td>\n",
       "      <td>NaT</td>\n",
       "    </tr>\n",
       "    <tr>\n",
       "      <th>1434759</th>\n",
       "      <td>2024-08-01</td>\n",
       "      <td>S0VfS1VfIDI2NDUwMg==</td>\n",
       "      <td>S0VfS1VfMTYyNDYxMzEyOGN2S2tKTFZqeFk=</td>\n",
       "      <td>2022-02-12</td>\n",
       "      <td>2022-02-26</td>\n",
       "      <td>2022-04-30</td>\n",
       "      <td>KES</td>\n",
       "      <td>8000.0</td>\n",
       "      <td>0.075</td>\n",
       "      <td>2022-04-30</td>\n",
       "      <td>8960.0</td>\n",
       "      <td>NaT</td>\n",
       "      <td>NaN</td>\n",
       "      <td>ProLoan</td>\n",
       "      <td>360.0</td>\n",
       "      <td>0.0</td>\n",
       "      <td>8960.0</td>\n",
       "      <td>NaN</td>\n",
       "      <td>NaT</td>\n",
       "      <td>NaN</td>\n",
       "      <td>NaN</td>\n",
       "      <td>NaN</td>\n",
       "      <td>NaN</td>\n",
       "      <td>NaN</td>\n",
       "      <td>NaT</td>\n",
       "    </tr>\n",
       "    <tr>\n",
       "      <th>1434758</th>\n",
       "      <td>2024-07-01</td>\n",
       "      <td>S0VfS1VfIDI2NDUwMg==</td>\n",
       "      <td>S0VfS1VfMTYyNDYxMzEyOGN2S2tKTFZqeFk=</td>\n",
       "      <td>2022-02-12</td>\n",
       "      <td>2022-02-26</td>\n",
       "      <td>2022-04-30</td>\n",
       "      <td>KES</td>\n",
       "      <td>8000.0</td>\n",
       "      <td>0.075</td>\n",
       "      <td>2022-04-30</td>\n",
       "      <td>8960.0</td>\n",
       "      <td>NaT</td>\n",
       "      <td>NaN</td>\n",
       "      <td>ProLoan</td>\n",
       "      <td>360.0</td>\n",
       "      <td>0.0</td>\n",
       "      <td>8960.0</td>\n",
       "      <td>NaN</td>\n",
       "      <td>NaT</td>\n",
       "      <td>NaN</td>\n",
       "      <td>NaN</td>\n",
       "      <td>NaN</td>\n",
       "      <td>NaN</td>\n",
       "      <td>NaN</td>\n",
       "      <td>NaT</td>\n",
       "    </tr>\n",
       "    <tr>\n",
       "      <th>1434767</th>\n",
       "      <td>2024-06-01</td>\n",
       "      <td>S0VfS1VfIDI2NDUwMg==</td>\n",
       "      <td>S0VfS1VfMTYyNDYxMzEyOGN2S2tKTFZqeFk=</td>\n",
       "      <td>2022-02-12</td>\n",
       "      <td>2022-02-26</td>\n",
       "      <td>2022-04-30</td>\n",
       "      <td>KES</td>\n",
       "      <td>8000.0</td>\n",
       "      <td>0.075</td>\n",
       "      <td>2022-04-30</td>\n",
       "      <td>8960.0</td>\n",
       "      <td>NaT</td>\n",
       "      <td>NaN</td>\n",
       "      <td>ProLoan</td>\n",
       "      <td>360.0</td>\n",
       "      <td>0.0</td>\n",
       "      <td>8960.0</td>\n",
       "      <td>NaN</td>\n",
       "      <td>NaT</td>\n",
       "      <td>NaN</td>\n",
       "      <td>NaN</td>\n",
       "      <td>NaN</td>\n",
       "      <td>NaN</td>\n",
       "      <td>NaN</td>\n",
       "      <td>NaT</td>\n",
       "    </tr>\n",
       "  </tbody>\n",
       "</table>\n",
       "</div>"
      ],
      "text/plain": [
       "        as_of_datetime               loan_id  \\\n",
       "1434765     2024-10-01  S0VfS1VfIDI2NDUwMg==   \n",
       "1434760     2024-09-01  S0VfS1VfIDI2NDUwMg==   \n",
       "1434759     2024-08-01  S0VfS1VfIDI2NDUwMg==   \n",
       "1434758     2024-07-01  S0VfS1VfIDI2NDUwMg==   \n",
       "1434767     2024-06-01  S0VfS1VfIDI2NDUwMg==   \n",
       "\n",
       "                                  borrower_id issue_date maturity_date  \\\n",
       "1434765  S0VfS1VfMTYyNDYxMzEyOGN2S2tKTFZqeFk= 2022-02-12    2022-02-26   \n",
       "1434760  S0VfS1VfMTYyNDYxMzEyOGN2S2tKTFZqeFk= 2022-02-12    2022-02-26   \n",
       "1434759  S0VfS1VfMTYyNDYxMzEyOGN2S2tKTFZqeFk= 2022-02-12    2022-02-26   \n",
       "1434758  S0VfS1VfMTYyNDYxMzEyOGN2S2tKTFZqeFk= 2022-02-12    2022-02-26   \n",
       "1434767  S0VfS1VfMTYyNDYxMzEyOGN2S2tKTFZqeFk= 2022-02-12    2022-02-26   \n",
       "\n",
       "        closing_date currency  principal_amount  interest_rate write_off_date  \\\n",
       "1434765   2022-04-30      KES            8000.0          0.075     2022-04-30   \n",
       "1434760   2022-04-30      KES            8000.0          0.075     2022-04-30   \n",
       "1434759   2022-04-30      KES            8000.0          0.075     2022-04-30   \n",
       "1434758   2022-04-30      KES            8000.0          0.075     2022-04-30   \n",
       "1434767   2022-04-30      KES            8000.0          0.075     2022-04-30   \n",
       "\n",
       "         write_off_amount default_date  default_amount product_name  \\\n",
       "1434765            8960.0          NaT             NaN      ProLoan   \n",
       "1434760            8960.0          NaT             NaN      ProLoan   \n",
       "1434759            8960.0          NaT             NaN      ProLoan   \n",
       "1434758            8960.0          NaT             NaN      ProLoan   \n",
       "1434767            8960.0          NaT             NaN      ProLoan   \n",
       "\n",
       "         penalties  fees  total_outstanding payment_id payment_date  amount  \\\n",
       "1434765      360.0   0.0             8960.0        NaN          NaT     NaN   \n",
       "1434760      360.0   0.0             8960.0        NaN          NaT     NaN   \n",
       "1434759      360.0   0.0             8960.0        NaN          NaT     NaN   \n",
       "1434758      360.0   0.0             8960.0        NaN          NaT     NaN   \n",
       "1434767      360.0   0.0             8960.0        NaN          NaT     NaN   \n",
       "\n",
       "        type gender country geo_classification date_of_birth  \n",
       "1434765  NaN    NaN     NaN                NaN           NaT  \n",
       "1434760  NaN    NaN     NaN                NaN           NaT  \n",
       "1434759  NaN    NaN     NaN                NaN           NaT  \n",
       "1434758  NaN    NaN     NaN                NaN           NaT  \n",
       "1434767  NaN    NaN     NaN                NaN           NaT  "
      ]
     },
     "execution_count": 21,
     "metadata": {},
     "output_type": "execute_result"
    }
   ],
   "source": [
    "master_data.head()"
   ]
  },
  {
   "cell_type": "code",
   "execution_count": 22,
   "metadata": {},
   "outputs": [
    {
     "name": "stdout",
     "output_type": "stream",
     "text": [
      "<class 'pandas.core.frame.DataFrame'>\n",
      "Index: 2883610 entries, 1434765 to 1616093\n",
      "Data columns (total 25 columns):\n",
      " #   Column              Non-Null Count    Dtype         \n",
      "---  ------              --------------    -----         \n",
      " 0   as_of_datetime      2883610 non-null  datetime64[ns]\n",
      " 1   loan_id             2883610 non-null  object        \n",
      " 2   borrower_id         2870196 non-null  object        \n",
      " 3   issue_date          2883610 non-null  datetime64[ns]\n",
      " 4   maturity_date       2883610 non-null  datetime64[ns]\n",
      " 5   closing_date        2883428 non-null  datetime64[ns]\n",
      " 6   currency            2883610 non-null  category      \n",
      " 7   principal_amount    2883610 non-null  float64       \n",
      " 8   interest_rate       2883610 non-null  float64       \n",
      " 9   write_off_date      2440303 non-null  datetime64[ns]\n",
      " 10  write_off_amount    2440303 non-null  float64       \n",
      " 11  default_date        210 non-null      datetime64[ns]\n",
      " 12  default_amount      210 non-null      float64       \n",
      " 13  product_name        2883610 non-null  category      \n",
      " 14  penalties           2883610 non-null  float64       \n",
      " 15  fees                2883610 non-null  float64       \n",
      " 16  total_outstanding   2883610 non-null  float64       \n",
      " 17  payment_id          169029 non-null   category      \n",
      " 18  payment_date        169040 non-null   datetime64[ns]\n",
      " 19  amount              169040 non-null   float64       \n",
      " 20  type                169040 non-null   category      \n",
      " 21  gender              2596787 non-null  category      \n",
      " 22  country             2596787 non-null  category      \n",
      " 23  geo_classification  789157 non-null   category      \n",
      " 24  date_of_birth       2596787 non-null  datetime64[ns]\n",
      "dtypes: category(7), datetime64[ns](8), float64(8), object(2)\n",
      "memory usage: 617.8+ MB\n"
     ]
    }
   ],
   "source": [
    "master_data.info(show_counts=True)"
   ]
  },
  {
   "cell_type": "markdown",
   "metadata": {},
   "source": [
    "## Metrics"
   ]
  },
  {
   "cell_type": "code",
   "execution_count": 23,
   "metadata": {},
   "outputs": [],
   "source": [
    "metrics_df = master_data.copy() "
   ]
  },
  {
   "cell_type": "code",
   "execution_count": 24,
   "metadata": {},
   "outputs": [],
   "source": [
    "metrics_df = calculate_terms(metrics_df)"
   ]
  },
  {
   "cell_type": "code",
   "execution_count": 25,
   "metadata": {},
   "outputs": [],
   "source": [
    "#dropping duplicates and keeping most recent instance of loan_id to calculate write_off amount & gross yield\n",
    "metrics_df = metrics_df.drop_duplicates(subset=['loan_id'], keep='first') "
   ]
  },
  {
   "cell_type": "code",
   "execution_count": 26,
   "metadata": {},
   "outputs": [],
   "source": [
    "exchange_rates = {\n",
    "    'KES': 0.0077,\n",
    "    'UGX': 0.00027,\n",
    "}\n",
    "\n",
    "metrics_df['principal_amount_usd'] = metrics_df.apply(\n",
    "    lambda row: row['principal_amount'] * exchange_rates.get(row['currency'], 1) if row['currency'] in exchange_rates else row['principal_amount'], \n",
    "    axis=1)\n",
    "\n",
    "metrics_df['write_off_amount_usd'] = metrics_df.apply(\n",
    "    lambda row: row['write_off_amount'] * exchange_rates.get(row['currency'], 1) if row['currency'] in exchange_rates else row['write_off_amount'], \n",
    "    axis=1)"
   ]
  },
  {
   "cell_type": "markdown",
   "metadata": {},
   "source": [
    "### Write-off rate"
   ]
  },
  {
   "cell_type": "code",
   "execution_count": 27,
   "metadata": {},
   "outputs": [
    {
     "name": "stdout",
     "output_type": "stream",
     "text": [
      "Write off rate is: 35.97%\n"
     ]
    }
   ],
   "source": [
    "#dropping out of bounds maturity_date\n",
    "metrics_df = metrics_df[metrics_df['loan_id'] != 'VUdfS1VfNDI2NQ==']\n",
    "\n",
    "write_off_rate = calculate_write_off_rate(metrics_df)\n",
    "print(f'Write off rate is: {write_off_rate:.2f}%')"
   ]
  },
  {
   "cell_type": "markdown",
   "metadata": {},
   "source": [
    "### Gross yield"
   ]
  },
  {
   "cell_type": "code",
   "execution_count": 28,
   "metadata": {},
   "outputs": [],
   "source": [
    "metrics_df = calculate_interest_metrics(metrics_df)"
   ]
  },
  {
   "cell_type": "code",
   "execution_count": 29,
   "metadata": {},
   "outputs": [
    {
     "name": "stdout",
     "output_type": "stream",
     "text": [
      "Gross yield is: 0.12%\n"
     ]
    }
   ],
   "source": [
    "total_actual_interest = metrics_df['actual_interest'].sum()\n",
    "total_principal_amount = metrics_df['principal_amount'].sum()\n",
    "\n",
    "gross_yield = (total_actual_interest / total_principal_amount) * 100\n",
    "print(f'Gross yield is: {gross_yield:.2f}%')"
   ]
  },
  {
   "cell_type": "markdown",
   "metadata": {},
   "source": [
    "### Collections Rate"
   ]
  },
  {
   "cell_type": "code",
   "execution_count": 30,
   "metadata": {},
   "outputs": [],
   "source": [
    "# # This is my take on collections rate (although I am unsure if this is the correct approach)\n",
    "# df_no_write_offs = metrics_df[metrics_df['write_off_date'].isna()]\n",
    "# valid_payments = df_no_write_offs[(df_no_write_offs['amount'].notnull()) & (df_no_write_offs['total_outstanding'] < 0)]\n",
    "\n",
    "# total_collections = valid_payments['amount'].sum()\n",
    "# total_outstanding = metrics_df['total_outstanding'].sum()\n",
    "\n",
    "# collections_rate = total_collections / total_outstanding * 100"
   ]
  },
  {
   "cell_type": "markdown",
   "metadata": {},
   "source": [
    "### AVG days in arrears"
   ]
  },
  {
   "cell_type": "code",
   "execution_count": 31,
   "metadata": {},
   "outputs": [
    {
     "name": "stdout",
     "output_type": "stream",
     "text": [
      "Average Days in Arrears: 21.74 days\n"
     ]
    }
   ],
   "source": [
    "avg_days_in_arrears = calculate_avg_days_in_arrears(metrics_df)\n",
    "\n",
    "print(f\"Average Days in Arrears: {avg_days_in_arrears:.2f} days\")"
   ]
  },
  {
   "cell_type": "code",
   "execution_count": 32,
   "metadata": {},
   "outputs": [
    {
     "data": {
      "text/html": [
       "<div>\n",
       "<style scoped>\n",
       "    .dataframe tbody tr th:only-of-type {\n",
       "        vertical-align: middle;\n",
       "    }\n",
       "\n",
       "    .dataframe tbody tr th {\n",
       "        vertical-align: top;\n",
       "    }\n",
       "\n",
       "    .dataframe thead th {\n",
       "        text-align: right;\n",
       "    }\n",
       "</style>\n",
       "<table border=\"1\" class=\"dataframe\">\n",
       "  <thead>\n",
       "    <tr style=\"text-align: right;\">\n",
       "      <th></th>\n",
       "      <th>as_of_datetime</th>\n",
       "      <th>loan_id</th>\n",
       "      <th>borrower_id</th>\n",
       "      <th>issue_date</th>\n",
       "      <th>maturity_date</th>\n",
       "      <th>closing_date</th>\n",
       "      <th>currency</th>\n",
       "      <th>principal_amount</th>\n",
       "      <th>interest_rate</th>\n",
       "      <th>write_off_date</th>\n",
       "      <th>write_off_amount</th>\n",
       "      <th>default_date</th>\n",
       "      <th>default_amount</th>\n",
       "      <th>product_name</th>\n",
       "      <th>penalties</th>\n",
       "      <th>fees</th>\n",
       "      <th>total_outstanding</th>\n",
       "      <th>payment_id</th>\n",
       "      <th>payment_date</th>\n",
       "      <th>amount</th>\n",
       "      <th>type</th>\n",
       "      <th>gender</th>\n",
       "      <th>country</th>\n",
       "      <th>geo_classification</th>\n",
       "      <th>date_of_birth</th>\n",
       "      <th>expected_term_days</th>\n",
       "      <th>expected_term_months</th>\n",
       "      <th>actual_term_days</th>\n",
       "      <th>actual_term_months</th>\n",
       "      <th>principal_amount_usd</th>\n",
       "      <th>write_off_amount_usd</th>\n",
       "      <th>expected_interest</th>\n",
       "      <th>expected_interest_daily</th>\n",
       "      <th>actual_interest</th>\n",
       "      <th>days_in_arrears</th>\n",
       "    </tr>\n",
       "  </thead>\n",
       "  <tbody>\n",
       "    <tr>\n",
       "      <th>1434765</th>\n",
       "      <td>2024-10-01</td>\n",
       "      <td>S0VfS1VfIDI2NDUwMg==</td>\n",
       "      <td>S0VfS1VfMTYyNDYxMzEyOGN2S2tKTFZqeFk=</td>\n",
       "      <td>2022-02-12</td>\n",
       "      <td>2022-02-26</td>\n",
       "      <td>2022-04-30</td>\n",
       "      <td>KES</td>\n",
       "      <td>8000.0</td>\n",
       "      <td>0.075</td>\n",
       "      <td>2022-04-30</td>\n",
       "      <td>8960.0</td>\n",
       "      <td>NaT</td>\n",
       "      <td>NaN</td>\n",
       "      <td>ProLoan</td>\n",
       "      <td>360.0</td>\n",
       "      <td>0.0</td>\n",
       "      <td>8960.0</td>\n",
       "      <td>NaN</td>\n",
       "      <td>NaT</td>\n",
       "      <td>NaN</td>\n",
       "      <td>NaN</td>\n",
       "      <td>NaN</td>\n",
       "      <td>NaN</td>\n",
       "      <td>NaN</td>\n",
       "      <td>NaT</td>\n",
       "      <td>14</td>\n",
       "      <td>0.466667</td>\n",
       "      <td>77.0</td>\n",
       "      <td>2.566667</td>\n",
       "      <td>61.6000</td>\n",
       "      <td>68.99200</td>\n",
       "      <td>4.620000</td>\n",
       "      <td>0.330000</td>\n",
       "      <td>25.410000</td>\n",
       "      <td>63.0</td>\n",
       "    </tr>\n",
       "    <tr>\n",
       "      <th>361013</th>\n",
       "      <td>2024-10-01</td>\n",
       "      <td>S0VfS1VfIDI3MzI1OA==</td>\n",
       "      <td>S0VfS1VfMTY0Nzg3MTI3OFgzQU10T1lLd2M=</td>\n",
       "      <td>2022-03-22</td>\n",
       "      <td>2022-04-05</td>\n",
       "      <td>2022-05-31</td>\n",
       "      <td>KES</td>\n",
       "      <td>20000.0</td>\n",
       "      <td>0.075</td>\n",
       "      <td>2022-05-31</td>\n",
       "      <td>22400.0</td>\n",
       "      <td>NaT</td>\n",
       "      <td>NaN</td>\n",
       "      <td>ProLoan</td>\n",
       "      <td>900.0</td>\n",
       "      <td>0.0</td>\n",
       "      <td>22400.0</td>\n",
       "      <td>NaN</td>\n",
       "      <td>NaT</td>\n",
       "      <td>NaN</td>\n",
       "      <td>NaN</td>\n",
       "      <td>NaN</td>\n",
       "      <td>NaN</td>\n",
       "      <td>NaN</td>\n",
       "      <td>NaT</td>\n",
       "      <td>14</td>\n",
       "      <td>0.466667</td>\n",
       "      <td>70.0</td>\n",
       "      <td>2.333333</td>\n",
       "      <td>154.0000</td>\n",
       "      <td>172.48000</td>\n",
       "      <td>11.550000</td>\n",
       "      <td>0.825000</td>\n",
       "      <td>57.750000</td>\n",
       "      <td>56.0</td>\n",
       "    </tr>\n",
       "    <tr>\n",
       "      <th>179753</th>\n",
       "      <td>2024-10-01</td>\n",
       "      <td>S0VfS1VfIDI4ODA1OA==</td>\n",
       "      <td>S0VfS1VfMTYyNzI4NDI5NnNNcG9ZazdiVVo=</td>\n",
       "      <td>2022-06-11</td>\n",
       "      <td>2022-06-25</td>\n",
       "      <td>2022-08-31</td>\n",
       "      <td>KES</td>\n",
       "      <td>19531.0</td>\n",
       "      <td>0.075</td>\n",
       "      <td>2022-08-31</td>\n",
       "      <td>21874.7</td>\n",
       "      <td>NaT</td>\n",
       "      <td>NaN</td>\n",
       "      <td>ProLoan</td>\n",
       "      <td>878.0</td>\n",
       "      <td>0.0</td>\n",
       "      <td>4999.7</td>\n",
       "      <td>NaN</td>\n",
       "      <td>NaT</td>\n",
       "      <td>NaN</td>\n",
       "      <td>NaN</td>\n",
       "      <td>NaN</td>\n",
       "      <td>NaN</td>\n",
       "      <td>NaN</td>\n",
       "      <td>NaT</td>\n",
       "      <td>14</td>\n",
       "      <td>0.466667</td>\n",
       "      <td>81.0</td>\n",
       "      <td>2.700000</td>\n",
       "      <td>150.3887</td>\n",
       "      <td>168.43519</td>\n",
       "      <td>11.279114</td>\n",
       "      <td>0.805651</td>\n",
       "      <td>65.257731</td>\n",
       "      <td>67.0</td>\n",
       "    </tr>\n",
       "    <tr>\n",
       "      <th>1076479</th>\n",
       "      <td>2024-10-01</td>\n",
       "      <td>S0VfS1VfIDI5MDU4MA==</td>\n",
       "      <td>S0VfS1VfMTYzOTA3NzM2M2laaWRneUZ5QWc=</td>\n",
       "      <td>2022-06-25</td>\n",
       "      <td>2022-07-09</td>\n",
       "      <td>2022-08-31</td>\n",
       "      <td>KES</td>\n",
       "      <td>18416.0</td>\n",
       "      <td>0.075</td>\n",
       "      <td>2022-08-31</td>\n",
       "      <td>11797.2</td>\n",
       "      <td>NaT</td>\n",
       "      <td>NaN</td>\n",
       "      <td>ProLoan</td>\n",
       "      <td>0.0</td>\n",
       "      <td>0.0</td>\n",
       "      <td>0.2</td>\n",
       "      <td>NaN</td>\n",
       "      <td>NaT</td>\n",
       "      <td>NaN</td>\n",
       "      <td>NaN</td>\n",
       "      <td>NaN</td>\n",
       "      <td>NaN</td>\n",
       "      <td>NaN</td>\n",
       "      <td>NaT</td>\n",
       "      <td>14</td>\n",
       "      <td>0.466667</td>\n",
       "      <td>67.0</td>\n",
       "      <td>2.233333</td>\n",
       "      <td>141.8032</td>\n",
       "      <td>90.83844</td>\n",
       "      <td>10.635240</td>\n",
       "      <td>0.759660</td>\n",
       "      <td>50.897220</td>\n",
       "      <td>53.0</td>\n",
       "    </tr>\n",
       "    <tr>\n",
       "      <th>179763</th>\n",
       "      <td>2024-10-01</td>\n",
       "      <td>S0VfS1VfMTQ1ODcy</td>\n",
       "      <td>S0VfS1VfMzQ0NDg=</td>\n",
       "      <td>2016-04-21</td>\n",
       "      <td>2016-05-23</td>\n",
       "      <td>2016-06-30</td>\n",
       "      <td>KES</td>\n",
       "      <td>6000.0</td>\n",
       "      <td>0.070</td>\n",
       "      <td>2016-06-30</td>\n",
       "      <td>420.0</td>\n",
       "      <td>NaT</td>\n",
       "      <td>NaN</td>\n",
       "      <td>ProLoan</td>\n",
       "      <td>0.0</td>\n",
       "      <td>0.0</td>\n",
       "      <td>420.0</td>\n",
       "      <td>NaN</td>\n",
       "      <td>NaT</td>\n",
       "      <td>NaN</td>\n",
       "      <td>NaN</td>\n",
       "      <td>NaN</td>\n",
       "      <td>NaN</td>\n",
       "      <td>NaN</td>\n",
       "      <td>NaT</td>\n",
       "      <td>32</td>\n",
       "      <td>1.066667</td>\n",
       "      <td>70.0</td>\n",
       "      <td>2.333333</td>\n",
       "      <td>46.2000</td>\n",
       "      <td>3.23400</td>\n",
       "      <td>3.234000</td>\n",
       "      <td>0.101063</td>\n",
       "      <td>7.074375</td>\n",
       "      <td>38.0</td>\n",
       "    </tr>\n",
       "  </tbody>\n",
       "</table>\n",
       "</div>"
      ],
      "text/plain": [
       "        as_of_datetime               loan_id  \\\n",
       "1434765     2024-10-01  S0VfS1VfIDI2NDUwMg==   \n",
       "361013      2024-10-01  S0VfS1VfIDI3MzI1OA==   \n",
       "179753      2024-10-01  S0VfS1VfIDI4ODA1OA==   \n",
       "1076479     2024-10-01  S0VfS1VfIDI5MDU4MA==   \n",
       "179763      2024-10-01      S0VfS1VfMTQ1ODcy   \n",
       "\n",
       "                                  borrower_id issue_date maturity_date  \\\n",
       "1434765  S0VfS1VfMTYyNDYxMzEyOGN2S2tKTFZqeFk= 2022-02-12    2022-02-26   \n",
       "361013   S0VfS1VfMTY0Nzg3MTI3OFgzQU10T1lLd2M= 2022-03-22    2022-04-05   \n",
       "179753   S0VfS1VfMTYyNzI4NDI5NnNNcG9ZazdiVVo= 2022-06-11    2022-06-25   \n",
       "1076479  S0VfS1VfMTYzOTA3NzM2M2laaWRneUZ5QWc= 2022-06-25    2022-07-09   \n",
       "179763                       S0VfS1VfMzQ0NDg= 2016-04-21    2016-05-23   \n",
       "\n",
       "        closing_date currency  principal_amount  interest_rate write_off_date  \\\n",
       "1434765   2022-04-30      KES            8000.0          0.075     2022-04-30   \n",
       "361013    2022-05-31      KES           20000.0          0.075     2022-05-31   \n",
       "179753    2022-08-31      KES           19531.0          0.075     2022-08-31   \n",
       "1076479   2022-08-31      KES           18416.0          0.075     2022-08-31   \n",
       "179763    2016-06-30      KES            6000.0          0.070     2016-06-30   \n",
       "\n",
       "         write_off_amount default_date  default_amount product_name  \\\n",
       "1434765            8960.0          NaT             NaN      ProLoan   \n",
       "361013            22400.0          NaT             NaN      ProLoan   \n",
       "179753            21874.7          NaT             NaN      ProLoan   \n",
       "1076479           11797.2          NaT             NaN      ProLoan   \n",
       "179763              420.0          NaT             NaN      ProLoan   \n",
       "\n",
       "         penalties  fees  total_outstanding payment_id payment_date  amount  \\\n",
       "1434765      360.0   0.0             8960.0        NaN          NaT     NaN   \n",
       "361013       900.0   0.0            22400.0        NaN          NaT     NaN   \n",
       "179753       878.0   0.0             4999.7        NaN          NaT     NaN   \n",
       "1076479        0.0   0.0                0.2        NaN          NaT     NaN   \n",
       "179763         0.0   0.0              420.0        NaN          NaT     NaN   \n",
       "\n",
       "        type gender country geo_classification date_of_birth  \\\n",
       "1434765  NaN    NaN     NaN                NaN           NaT   \n",
       "361013   NaN    NaN     NaN                NaN           NaT   \n",
       "179753   NaN    NaN     NaN                NaN           NaT   \n",
       "1076479  NaN    NaN     NaN                NaN           NaT   \n",
       "179763   NaN    NaN     NaN                NaN           NaT   \n",
       "\n",
       "         expected_term_days  expected_term_months  actual_term_days  \\\n",
       "1434765                  14              0.466667              77.0   \n",
       "361013                   14              0.466667              70.0   \n",
       "179753                   14              0.466667              81.0   \n",
       "1076479                  14              0.466667              67.0   \n",
       "179763                   32              1.066667              70.0   \n",
       "\n",
       "         actual_term_months  principal_amount_usd  write_off_amount_usd  \\\n",
       "1434765            2.566667               61.6000              68.99200   \n",
       "361013             2.333333              154.0000             172.48000   \n",
       "179753             2.700000              150.3887             168.43519   \n",
       "1076479            2.233333              141.8032              90.83844   \n",
       "179763             2.333333               46.2000               3.23400   \n",
       "\n",
       "         expected_interest  expected_interest_daily  actual_interest  \\\n",
       "1434765           4.620000                 0.330000        25.410000   \n",
       "361013           11.550000                 0.825000        57.750000   \n",
       "179753           11.279114                 0.805651        65.257731   \n",
       "1076479          10.635240                 0.759660        50.897220   \n",
       "179763            3.234000                 0.101063         7.074375   \n",
       "\n",
       "         days_in_arrears  \n",
       "1434765             63.0  \n",
       "361013              56.0  \n",
       "179753              67.0  \n",
       "1076479             53.0  \n",
       "179763              38.0  "
      ]
     },
     "execution_count": 32,
     "metadata": {},
     "output_type": "execute_result"
    }
   ],
   "source": [
    "metrics_df.head()"
   ]
  },
  {
   "cell_type": "markdown",
   "metadata": {},
   "source": [
    "## Benchmark Comparison"
   ]
  },
  {
   "cell_type": "code",
   "execution_count": 33,
   "metadata": {},
   "outputs": [],
   "source": [
    "pd.set_option('display.float_format', '{:.2f}'.format)"
   ]
  },
  {
   "cell_type": "code",
   "execution_count": 34,
   "metadata": {},
   "outputs": [
    {
     "name": "stdout",
     "output_type": "stream",
     "text": [
      "Loan Book Size: $50,074,369.34\n"
     ]
    }
   ],
   "source": [
    "loan_book_size = metrics_df['principal_amount_usd'].sum() - metrics_df['write_off_amount_usd'].sum()\n",
    "print(f\"Loan Book Size: ${loan_book_size:,.2f}\")"
   ]
  },
  {
   "cell_type": "code",
   "execution_count": 35,
   "metadata": {},
   "outputs": [
    {
     "data": {
      "text/plain": [
       "count   675754.00\n",
       "mean        28.87\n",
       "std          5.53\n",
       "min          1.00\n",
       "25%         30.00\n",
       "50%         30.00\n",
       "75%         30.00\n",
       "max        180.00\n",
       "Name: expected_term_days, dtype: float64"
      ]
     },
     "execution_count": 35,
     "metadata": {},
     "output_type": "execute_result"
    }
   ],
   "source": [
    "term_duration_summary = metrics_df['expected_term_days'].describe()\n",
    "term_duration_summary"
   ]
  },
  {
   "cell_type": "code",
   "execution_count": 36,
   "metadata": {},
   "outputs": [
    {
     "data": {
      "text/plain": [
       "count   675754.00\n",
       "mean       115.73\n",
       "std        101.46\n",
       "min          0.08\n",
       "25%         53.90\n",
       "50%         79.31\n",
       "75%        140.91\n",
       "max       1925.00\n",
       "Name: principal_amount_usd, dtype: float64"
      ]
     },
     "execution_count": 36,
     "metadata": {},
     "output_type": "execute_result"
    }
   ],
   "source": [
    "loan_amount_summary = metrics_df['principal_amount_usd'].describe()\n",
    "loan_amount_summary"
   ]
  },
  {
   "cell_type": "markdown",
   "metadata": {},
   "source": [
    "## Insights"
   ]
  },
  {
   "cell_type": "code",
   "execution_count": 38,
   "metadata": {},
   "outputs": [
    {
     "data": {
      "image/png": "[encoded data removed]",
      "text/plain": [
       "<Figure size 800x600 with 1 Axes>"
      ]
     },
     "metadata": {},
     "output_type": "display_data"
    }
   ],
   "source": [
    "sum_by_issue_date = metrics_df.groupby('issue_date')['principal_amount'].sum()\n",
    "\n",
    "plt.figure(figsize=(8, 6))\n",
    "plt.plot(sum_by_issue_date.index, sum_by_issue_date.values, marker='o', color='skyblue')\n",
    "plt.title('Total Loan Amount Issued by Issue Date')\n",
    "plt.xlabel('Issue Date')\n",
    "plt.ylabel('Sum of Principal Amount')\n",
    "\n",
    "plt.xticks(rotation=45)\n",
    "plt.show()"
   ]
  },
  {
   "cell_type": "code",
   "execution_count": 39,
   "metadata": {},
   "outputs": [
    {
     "data": {
      "image/png": "[encoded data removed]",
      "text/plain": [
       "<Figure size 800x600 with 1 Axes>"
      ]
     },
     "metadata": {},
     "output_type": "display_data"
    }
   ],
   "source": [
    "plt.figure(figsize=(8, 6))\n",
    "sns.scatterplot(x=metrics_df['expected_term_days'], y=metrics_df['actual_term_days'], \n",
    "                label='Swift Loan', color='skyblue')\n",
    "\n",
    "plt.plot([metrics_df['expected_term_days'].min(), metrics_df['expected_term_days'].max()],\n",
    "         [metrics_df['expected_term_days'].min(), metrics_df['expected_term_days'].max()],\n",
    "         linestyle='--', color='red', label='Ideal (Expected = Actual)')\n",
    "\n",
    "plt.title('Comparison of Expected and Actual Loan Terms')\n",
    "plt.xlabel('Expected Loan Term (Days)')\n",
    "plt.ylabel('Actual Loan Term (Days)')\n",
    "\n",
    "plt.legend()\n",
    "plt.grid(True)\n",
    "plt.show()"
   ]
  },
  {
   "cell_type": "code",
   "execution_count": 40,
   "metadata": {},
   "outputs": [
    {
     "data": {
      "text/html": [
       "<div>\n",
       "<style scoped>\n",
       "    .dataframe tbody tr th:only-of-type {\n",
       "        vertical-align: middle;\n",
       "    }\n",
       "\n",
       "    .dataframe tbody tr th {\n",
       "        vertical-align: top;\n",
       "    }\n",
       "\n",
       "    .dataframe thead th {\n",
       "        text-align: right;\n",
       "    }\n",
       "</style>\n",
       "<table border=\"1\" class=\"dataframe\">\n",
       "  <thead>\n",
       "    <tr style=\"text-align: right;\">\n",
       "      <th></th>\n",
       "      <th>gender</th>\n",
       "      <th>country</th>\n",
       "      <th>avg_days_in_arrears</th>\n",
       "      <th>write_off_rate</th>\n",
       "    </tr>\n",
       "  </thead>\n",
       "  <tbody>\n",
       "    <tr>\n",
       "      <th>0</th>\n",
       "      <td>Female</td>\n",
       "      <td>Kenya</td>\n",
       "      <td>21.47</td>\n",
       "      <td>0.36</td>\n",
       "    </tr>\n",
       "    <tr>\n",
       "      <th>1</th>\n",
       "      <td>Female</td>\n",
       "      <td>Uganda</td>\n",
       "      <td>29.93</td>\n",
       "      <td>0.41</td>\n",
       "    </tr>\n",
       "    <tr>\n",
       "      <th>2</th>\n",
       "      <td>Male</td>\n",
       "      <td>Kenya</td>\n",
       "      <td>21.43</td>\n",
       "      <td>0.34</td>\n",
       "    </tr>\n",
       "    <tr>\n",
       "      <th>3</th>\n",
       "      <td>Male</td>\n",
       "      <td>Uganda</td>\n",
       "      <td>28.77</td>\n",
       "      <td>0.40</td>\n",
       "    </tr>\n",
       "  </tbody>\n",
       "</table>\n",
       "</div>"
      ],
      "text/plain": [
       "   gender country  avg_days_in_arrears  write_off_rate\n",
       "0  Female   Kenya                21.47            0.36\n",
       "1  Female  Uganda                29.93            0.41\n",
       "2    Male   Kenya                21.43            0.34\n",
       "3    Male  Uganda                28.77            0.40"
      ]
     },
     "execution_count": 40,
     "metadata": {},
     "output_type": "execute_result"
    }
   ],
   "source": [
    "demographic_arrears = metrics_df.groupby(['gender', 'country'],observed=True).agg(\n",
    "    avg_days_in_arrears=('days_in_arrears', 'mean'),\n",
    "    write_off_rate=('write_off_amount_usd', lambda x: x.notnull().mean())\n",
    ").reset_index()\n",
    "demographic_arrears"
   ]
  },
  {
   "cell_type": "code",
   "execution_count": 41,
   "metadata": {},
   "outputs": [
    {
     "data": {
      "image/png": "[encoded data removed]",
      "text/plain": [
       "<Figure size 800x800 with 2 Axes>"
      ]
     },
     "metadata": {},
     "output_type": "display_data"
    }
   ],
   "source": [
    "demographic_principal_amount = metrics_df.groupby(['gender', 'country'],observed=True)['principal_amount_usd'].mean().unstack()\n",
    "\n",
    "plt.figure(figsize=(8, 8))\n",
    "sns.heatmap(demographic_principal_amount, cmap=\"YlGnBu\", annot=True, fmt=\".1f\")\n",
    "plt.title('Average Principal Amount by Gender and Country')\n",
    "plt.xlabel('Country')\n",
    "plt.ylabel('Gender')\n",
    "plt.show()\n"
   ]
  },
  {
   "cell_type": "code",
   "execution_count": 42,
   "metadata": {},
   "outputs": [
    {
     "data": {
      "image/png": "[encoded data removed]",
      "text/plain": [
       "<Figure size 800x800 with 2 Axes>"
      ]
     },
     "metadata": {},
     "output_type": "display_data"
    }
   ],
   "source": [
    "demographic_principal = metrics_df.groupby(['gender', 'country'], observed=True)['principal_amount_usd'].sum().unstack()\n",
    "demographic_principal_percentage = demographic_principal.div(demographic_principal.sum(axis=0), axis=1) * 100\n",
    "\n",
    "fig, axes = plt.subplots(nrows=1, ncols=demographic_principal_percentage.shape[1], figsize=(8, 8))\n",
    "\n",
    "for i, country in enumerate(demographic_principal_percentage.columns):\n",
    "    ax = axes[i]\n",
    "    ax.pie(demographic_principal_percentage[country], labels=demographic_principal_percentage.index, autopct='%1.1f%%', startangle=90)\n",
    "    ax.set_title(f'Gender Distribution in {country}')\n",
    "\n",
    "plt.tight_layout()\n",
    "plt.show()"
   ]
  },
  {
   "cell_type": "code",
   "execution_count": 43,
   "metadata": {},
   "outputs": [
    {
     "data": {
      "image/png": "[encoded data removed]",
      "text/plain": [
       "<Figure size 800x600 with 1 Axes>"
      ]
     },
     "metadata": {},
     "output_type": "display_data"
    }
   ],
   "source": [
    "plt.figure(figsize=(8, 6))\n",
    "sns.boxplot(data=metrics_df, x='product_name', y='days_in_arrears')\n",
    "plt.title('Days in Arrears by Loan Product')\n",
    "plt.xlabel('Product Name')\n",
    "plt.ylabel('Days in Arrears')\n",
    "plt.xticks(rotation=45)\n",
    "plt.show()\n"
   ]
  }
 ],
 "metadata": {
  "kernelspec": {
   "display_name": ".venv_3_11",
   "language": "python",
   "name": "python3"
  },
  "language_info": {
   "codemirror_mode": {
    "name": "ipython",
    "version": 3
   },
   "file_extension": ".py",
   "mimetype": "text/x-python",
   "name": "python",
   "nbconvert_exporter": "python",
   "pygments_lexer": "ipython3",
   "version": "3.11.3"
  }
 },
 "nbformat": 4,
 "nbformat_minor": 2
}
