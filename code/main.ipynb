{
 "cells": [
  {
   "cell_type": "code",
   "execution_count": 2,
   "metadata": {},
   "outputs": [],
   "source": [
    "import matplotlib.pyplot as plt\n",
    "import numpy as np\n",
    "import pandas as pd\n",
    "import seaborn as sns\n",
    "from helpers.helper import calculate_terms, calculate_write_off_rate, calculate_interest_metrics, calculate_avg_days_in_arrears"
   ]
  },
  {
   "cell_type": "code",
   "execution_count": 3,
   "metadata": {},
   "outputs": [],
   "source": [
    "pd.set_option('display.max_columns', None)"
   ]
  },
  {
   "cell_type": "code",
   "execution_count": 4,
   "metadata": {},
   "outputs": [
    {
     "name": "stderr",
     "output_type": "stream",
     "text": [
      "C:\\Users\\vladb\\AppData\\Local\\Temp\\ipykernel_26104\\3427265589.py:1: DtypeWarning: Columns (11) have mixed types. Specify dtype option on import or set low_memory=False.\n",
      "  loans = pd.read_csv('~\\Desktop\\iohk_docs\\_loans.csv')\n"
     ]
    }
   ],
   "source": [
    "loans = pd.read_csv('~\\Desktop\\iohk_docs\\_loans.csv')\n",
    "payments = pd.read_csv('~\\Desktop\\iohk_docs\\_payments.csv')\n",
    "borrowers = pd.read_csv('~\\Desktop\\iohk_docs\\_borrowers.csv')"
   ]
  },
  {
   "cell_type": "markdown",
   "metadata": {},
   "source": [
    "## Loans"
   ]
  },
  {
   "cell_type": "code",
   "execution_count": 5,
   "metadata": {},
   "outputs": [],
   "source": [
    "loans_omit_cols = ['as_of_datetime', 'issue_date', 'maturity_date', 'closing_date', 'write_off_date', 'default_date']\n",
    "loans = loans.apply(lambda x: x.astype('category') if x.dtype == 'object' and x.name not in loans_omit_cols else x)"
   ]
  },
  {
   "cell_type": "code",
   "execution_count": 6,
   "metadata": {},
   "outputs": [
    {
     "data": {
      "text/html": [
       "<div>\n",
       "<style scoped>\n",
       "    .dataframe tbody tr th:only-of-type {\n",
       "        vertical-align: middle;\n",
       "    }\n",
       "\n",
       "    .dataframe tbody tr th {\n",
       "        vertical-align: top;\n",
       "    }\n",
       "\n",
       "    .dataframe thead th {\n",
       "        text-align: right;\n",
       "    }\n",
       "</style>\n",
       "<table border=\"1\" class=\"dataframe\">\n",
       "  <thead>\n",
       "    <tr style=\"text-align: right;\">\n",
       "      <th></th>\n",
       "      <th>as_of_datetime</th>\n",
       "      <th>loan_id</th>\n",
       "      <th>borrower_id</th>\n",
       "      <th>issue_date</th>\n",
       "      <th>maturity_date</th>\n",
       "      <th>closing_date</th>\n",
       "      <th>currency</th>\n",
       "      <th>principal_amount</th>\n",
       "      <th>interest_rate</th>\n",
       "      <th>write_off_date</th>\n",
       "      <th>write_off_amount</th>\n",
       "      <th>default_date</th>\n",
       "      <th>default_amount</th>\n",
       "      <th>product_name</th>\n",
       "      <th>penalties</th>\n",
       "      <th>fees</th>\n",
       "      <th>total_outstanding</th>\n",
       "    </tr>\n",
       "  </thead>\n",
       "  <tbody>\n",
       "    <tr>\n",
       "      <th>1481</th>\n",
       "      <td>2024-02-01 00:00:00</td>\n",
       "      <td>S0VfS1VfMjA2MDA5</td>\n",
       "      <td>S0VfS1VfMTYxMTA1OTUyN2d3WXZyOVZoVVg=</td>\n",
       "      <td>2021-01-19</td>\n",
       "      <td>0019-03-20</td>\n",
       "      <td>2021-03-31</td>\n",
       "      <td>KES</td>\n",
       "      <td>40000.0</td>\n",
       "      <td>0.0</td>\n",
       "      <td>2021-03-31</td>\n",
       "      <td>40000.0</td>\n",
       "      <td>NaN</td>\n",
       "      <td>NaN</td>\n",
       "      <td>ProLoan</td>\n",
       "      <td>0.0</td>\n",
       "      <td>0.0</td>\n",
       "      <td>40000.0</td>\n",
       "    </tr>\n",
       "  </tbody>\n",
       "</table>\n",
       "</div>"
      ],
      "text/plain": [
       "           as_of_datetime           loan_id  \\\n",
       "1481  2024-02-01 00:00:00  S0VfS1VfMjA2MDA5   \n",
       "\n",
       "                               borrower_id  issue_date maturity_date  \\\n",
       "1481  S0VfS1VfMTYxMTA1OTUyN2d3WXZyOVZoVVg=  2021-01-19    0019-03-20   \n",
       "\n",
       "     closing_date currency  principal_amount  interest_rate write_off_date  \\\n",
       "1481   2021-03-31      KES           40000.0            0.0     2021-03-31   \n",
       "\n",
       "      write_off_amount default_date  default_amount product_name  penalties  \\\n",
       "1481           40000.0          NaN             NaN      ProLoan        0.0   \n",
       "\n",
       "      fees  total_outstanding  \n",
       "1481   0.0            40000.0  "
      ]
     },
     "execution_count": 6,
     "metadata": {},
     "output_type": "execute_result"
    }
   ],
   "source": [
    "invalid_entry = loans[loans['maturity_date'] == '0019-03-20']\n",
    "invalid_entry.head(1)"
   ]
  },
  {
   "cell_type": "code",
   "execution_count": 7,
   "metadata": {},
   "outputs": [],
   "source": [
    "invalid_maturity_dates = loans[\n",
    "    (loans['maturity_date'].isna()) | \n",
    "    (loans['maturity_date'].astype(str) < loans['issue_date'].astype(str))\n",
    "]\n",
    "loans = loans[~loans['loan_id'].isin(invalid_maturity_dates['loan_id'])]\n"
   ]
  },
  {
   "cell_type": "code",
   "execution_count": 8,
   "metadata": {},
   "outputs": [],
   "source": [
    "loans_date_omit_col = ['as_of_datetime']\n",
    "\n",
    "loans = loans.apply(lambda x: pd.to_datetime(x, format='%Y-%m-%d') if x.dtype == 'object' and x.name not in loans_date_omit_col else x)\n",
    "loans['as_of_datetime'] = pd.to_datetime(loans['as_of_datetime'])"
   ]
  },
  {
   "cell_type": "code",
   "execution_count": 9,
   "metadata": {},
   "outputs": [
    {
     "name": "stdout",
     "output_type": "stream",
     "text": [
      "<class 'pandas.core.frame.DataFrame'>\n",
      "Index: 2757862 entries, 0 to 2757981\n",
      "Data columns (total 17 columns):\n",
      " #   Column             Non-Null Count    Dtype         \n",
      "---  ------             --------------    -----         \n",
      " 0   as_of_datetime     2757862 non-null  datetime64[ns]\n",
      " 1   loan_id            2757862 non-null  category      \n",
      " 2   borrower_id        2745040 non-null  category      \n",
      " 3   issue_date         2757862 non-null  datetime64[ns]\n",
      " 4   maturity_date      2757862 non-null  datetime64[ns]\n",
      " 5   closing_date       2757680 non-null  datetime64[ns]\n",
      " 6   currency           2757862 non-null  category      \n",
      " 7   principal_amount   2757862 non-null  float64       \n",
      " 8   interest_rate      2757862 non-null  float64       \n",
      " 9   write_off_date     2315778 non-null  datetime64[ns]\n",
      " 10  write_off_amount   2315778 non-null  float64       \n",
      " 11  default_date       210 non-null      datetime64[ns]\n",
      " 12  default_amount     210 non-null      float64       \n",
      " 13  product_name       2757862 non-null  category      \n",
      " 14  penalties          2757862 non-null  float64       \n",
      " 15  fees               2757862 non-null  float64       \n",
      " 16  total_outstanding  2757862 non-null  float64       \n",
      "dtypes: category(4), datetime64[ns](6), float64(7)\n",
      "memory usage: 352.5 MB\n"
     ]
    }
   ],
   "source": [
    "loans.info(show_counts=True)"
   ]
  },
  {
   "cell_type": "markdown",
   "metadata": {},
   "source": [
    "## Payments"
   ]
  },
  {
   "cell_type": "code",
   "execution_count": 10,
   "metadata": {},
   "outputs": [],
   "source": [
    "payment_omit_col = ['payment_date']\n",
    "payments = payments.apply(lambda x: x.astype('category') if x.dtype == 'object' and x.name not in payment_omit_col else x)"
   ]
  },
  {
   "cell_type": "code",
   "execution_count": 11,
   "metadata": {},
   "outputs": [],
   "source": [
    "payments['payment_date'] = pd.to_datetime(payments['payment_date'], format='%Y-%m-%d')"
   ]
  },
  {
   "cell_type": "code",
   "execution_count": 12,
   "metadata": {},
   "outputs": [],
   "source": [
    "payments = payments.dropna(subset=['payment_date'])"
   ]
  },
  {
   "cell_type": "code",
   "execution_count": 13,
   "metadata": {},
   "outputs": [
    {
     "name": "stdout",
     "output_type": "stream",
     "text": [
      "<class 'pandas.core.frame.DataFrame'>\n",
      "Index: 5681730 entries, 0 to 5681805\n",
      "Data columns (total 6 columns):\n",
      " #   Column        Non-Null Count    Dtype         \n",
      "---  ------        --------------    -----         \n",
      " 0   payment_id    5681653 non-null  category      \n",
      " 1   payment_date  5681730 non-null  datetime64[ns]\n",
      " 2   loan_id       5681730 non-null  category      \n",
      " 3   currency      5681730 non-null  category      \n",
      " 4   amount        5681730 non-null  float64       \n",
      " 5   type          5681730 non-null  category      \n",
      "dtypes: category(4), datetime64[ns](1), float64(1)\n",
      "memory usage: 398.4 MB\n"
     ]
    }
   ],
   "source": [
    "payments.info(show_counts=True)"
   ]
  },
  {
   "cell_type": "markdown",
   "metadata": {},
   "source": [
    "## Borrowers"
   ]
  },
  {
   "cell_type": "code",
   "execution_count": 14,
   "metadata": {},
   "outputs": [],
   "source": [
    "borrowers = borrowers.sort_values(by='as_of_datetime', ascending=False)\n",
    "borrowers = borrowers.drop_duplicates(subset=['borrower_id'], keep='first')"
   ]
  },
  {
   "cell_type": "code",
   "execution_count": 15,
   "metadata": {},
   "outputs": [],
   "source": [
    "borrowers = borrowers[(borrowers['date_of_birth'] >= '1924-01-01') & (borrowers['date_of_birth'] <= '2005-07-01')]\n",
    "\n",
    "borrowers[['as_of_datetime', 'date_of_birth']] = borrowers[['as_of_datetime', 'date_of_birth']].apply(pd.to_datetime)"
   ]
  },
  {
   "cell_type": "code",
   "execution_count": 16,
   "metadata": {},
   "outputs": [],
   "source": [
    "borrower_omit_col = ['as_of_datetime', 'date_of_birth']\n",
    "borrowers = borrowers.apply(lambda x: x.astype('category') if x.dtype == 'object' and x.name not in borrower_omit_col else x)"
   ]
  },
  {
   "cell_type": "code",
   "execution_count": 17,
   "metadata": {},
   "outputs": [
    {
     "name": "stdout",
     "output_type": "stream",
     "text": [
      "<class 'pandas.core.frame.DataFrame'>\n",
      "Index: 428861 entries, 4282096 to 242941\n",
      "Data columns (total 6 columns):\n",
      " #   Column              Non-Null Count   Dtype         \n",
      "---  ------              --------------   -----         \n",
      " 0   as_of_datetime      428861 non-null  datetime64[ns]\n",
      " 1   borrower_id         428861 non-null  category      \n",
      " 2   gender              428861 non-null  category      \n",
      " 3   country             428861 non-null  category      \n",
      " 4   geo_classification  140929 non-null  category      \n",
      " 5   date_of_birth       428861 non-null  datetime64[ns]\n",
      "dtypes: category(4), datetime64[ns](2)\n",
      "memory usage: 32.1 MB\n"
     ]
    }
   ],
   "source": [
    "borrowers.info(show_counts=True)"
   ]
  },
  {
   "cell_type": "markdown",
   "metadata": {},
   "source": [
    "## Master data"
   ]
  },
  {
   "cell_type": "code",
   "execution_count": 18,
   "metadata": {},
   "outputs": [],
   "source": [
    "master_data = pd.merge(\n",
    "    pd.merge(loans, payments, how='left', on='loan_id'),\n",
    "    borrowers, how='left', on='borrower_id'\n",
    ")"
   ]
  },
  {
   "cell_type": "code",
   "execution_count": 19,
   "metadata": {},
   "outputs": [],
   "source": [
    "master_data = master_data.loc[:, ~master_data.columns.str.endswith('_y')]\n",
    "master_data = master_data.rename(columns=lambda x: x.replace('_x', '') if x.endswith('_x') else x)"
   ]
  },
  {
   "cell_type": "code",
   "execution_count": 20,
   "metadata": {},
   "outputs": [],
   "source": [
    "master_data = master_data.sort_values(by=['loan_id', 'as_of_datetime'], ascending=[True, False]) "
   ]
  },
  {
   "cell_type": "code",
   "execution_count": 21,
   "metadata": {},
   "outputs": [
    {
     "data": {
      "text/plain": [
       "(13414, 25)"
      ]
     },
     "execution_count": 21,
     "metadata": {},
     "output_type": "execute_result"
    }
   ],
   "source": [
    "invalid_borrower_loans = master_data[master_data['borrower_id'].isna() & master_data['loan_id'].notna()]\n",
    "invalid_borrower_loans.shape"
   ]
  },
  {
   "cell_type": "code",
   "execution_count": 22,
   "metadata": {},
   "outputs": [
    {
     "data": {
      "text/html": [
       "<div>\n",
       "<style scoped>\n",
       "    .dataframe tbody tr th:only-of-type {\n",
       "        vertical-align: middle;\n",
       "    }\n",
       "\n",
       "    .dataframe tbody tr th {\n",
       "        vertical-align: top;\n",
       "    }\n",
       "\n",
       "    .dataframe thead th {\n",
       "        text-align: right;\n",
       "    }\n",
       "</style>\n",
       "<table border=\"1\" class=\"dataframe\">\n",
       "  <thead>\n",
       "    <tr style=\"text-align: right;\">\n",
       "      <th></th>\n",
       "      <th>as_of_datetime</th>\n",
       "      <th>loan_id</th>\n",
       "      <th>borrower_id</th>\n",
       "      <th>issue_date</th>\n",
       "      <th>maturity_date</th>\n",
       "      <th>closing_date</th>\n",
       "      <th>currency</th>\n",
       "      <th>principal_amount</th>\n",
       "      <th>interest_rate</th>\n",
       "      <th>write_off_date</th>\n",
       "      <th>write_off_amount</th>\n",
       "      <th>default_date</th>\n",
       "      <th>default_amount</th>\n",
       "      <th>product_name</th>\n",
       "      <th>penalties</th>\n",
       "      <th>fees</th>\n",
       "      <th>total_outstanding</th>\n",
       "      <th>payment_id</th>\n",
       "      <th>payment_date</th>\n",
       "      <th>amount</th>\n",
       "      <th>type</th>\n",
       "      <th>gender</th>\n",
       "      <th>country</th>\n",
       "      <th>geo_classification</th>\n",
       "      <th>date_of_birth</th>\n",
       "    </tr>\n",
       "  </thead>\n",
       "  <tbody>\n",
       "    <tr>\n",
       "      <th>1434765</th>\n",
       "      <td>2024-10-01</td>\n",
       "      <td>S0VfS1VfIDI2NDUwMg==</td>\n",
       "      <td>S0VfS1VfMTYyNDYxMzEyOGN2S2tKTFZqeFk=</td>\n",
       "      <td>2022-02-12</td>\n",
       "      <td>2022-02-26</td>\n",
       "      <td>2022-04-30</td>\n",
       "      <td>KES</td>\n",
       "      <td>8000.0</td>\n",
       "      <td>0.075</td>\n",
       "      <td>2022-04-30</td>\n",
       "      <td>8960.0</td>\n",
       "      <td>NaT</td>\n",
       "      <td>NaN</td>\n",
       "      <td>ProLoan</td>\n",
       "      <td>360.0</td>\n",
       "      <td>0.0</td>\n",
       "      <td>8960.0</td>\n",
       "      <td>NaN</td>\n",
       "      <td>NaT</td>\n",
       "      <td>NaN</td>\n",
       "      <td>NaN</td>\n",
       "      <td>NaN</td>\n",
       "      <td>NaN</td>\n",
       "      <td>NaN</td>\n",
       "      <td>NaT</td>\n",
       "    </tr>\n",
       "    <tr>\n",
       "      <th>1434760</th>\n",
       "      <td>2024-09-01</td>\n",
       "      <td>S0VfS1VfIDI2NDUwMg==</td>\n",
       "      <td>S0VfS1VfMTYyNDYxMzEyOGN2S2tKTFZqeFk=</td>\n",
       "      <td>2022-02-12</td>\n",
       "      <td>2022-02-26</td>\n",
       "      <td>2022-04-30</td>\n",
       "      <td>KES</td>\n",
       "      <td>8000.0</td>\n",
       "      <td>0.075</td>\n",
       "      <td>2022-04-30</td>\n",
       "      <td>8960.0</td>\n",
       "      <td>NaT</td>\n",
       "      <td>NaN</td>\n",
       "      <td>ProLoan</td>\n",
       "      <td>360.0</td>\n",
       "      <td>0.0</td>\n",
       "      <td>8960.0</td>\n",
       "      <td>NaN</td>\n",
       "      <td>NaT</td>\n",
       "      <td>NaN</td>\n",
       "      <td>NaN</td>\n",
       "      <td>NaN</td>\n",
       "      <td>NaN</td>\n",
       "      <td>NaN</td>\n",
       "      <td>NaT</td>\n",
       "    </tr>\n",
       "    <tr>\n",
       "      <th>1434759</th>\n",
       "      <td>2024-08-01</td>\n",
       "      <td>S0VfS1VfIDI2NDUwMg==</td>\n",
       "      <td>S0VfS1VfMTYyNDYxMzEyOGN2S2tKTFZqeFk=</td>\n",
       "      <td>2022-02-12</td>\n",
       "      <td>2022-02-26</td>\n",
       "      <td>2022-04-30</td>\n",
       "      <td>KES</td>\n",
       "      <td>8000.0</td>\n",
       "      <td>0.075</td>\n",
       "      <td>2022-04-30</td>\n",
       "      <td>8960.0</td>\n",
       "      <td>NaT</td>\n",
       "      <td>NaN</td>\n",
       "      <td>ProLoan</td>\n",
       "      <td>360.0</td>\n",
       "      <td>0.0</td>\n",
       "      <td>8960.0</td>\n",
       "      <td>NaN</td>\n",
       "      <td>NaT</td>\n",
       "      <td>NaN</td>\n",
       "      <td>NaN</td>\n",
       "      <td>NaN</td>\n",
       "      <td>NaN</td>\n",
       "      <td>NaN</td>\n",
       "      <td>NaT</td>\n",
       "    </tr>\n",
       "    <tr>\n",
       "      <th>1434758</th>\n",
       "      <td>2024-07-01</td>\n",
       "      <td>S0VfS1VfIDI2NDUwMg==</td>\n",
       "      <td>S0VfS1VfMTYyNDYxMzEyOGN2S2tKTFZqeFk=</td>\n",
       "      <td>2022-02-12</td>\n",
       "      <td>2022-02-26</td>\n",
       "      <td>2022-04-30</td>\n",
       "      <td>KES</td>\n",
       "      <td>8000.0</td>\n",
       "      <td>0.075</td>\n",
       "      <td>2022-04-30</td>\n",
       "      <td>8960.0</td>\n",
       "      <td>NaT</td>\n",
       "      <td>NaN</td>\n",
       "      <td>ProLoan</td>\n",
       "      <td>360.0</td>\n",
       "      <td>0.0</td>\n",
       "      <td>8960.0</td>\n",
       "      <td>NaN</td>\n",
       "      <td>NaT</td>\n",
       "      <td>NaN</td>\n",
       "      <td>NaN</td>\n",
       "      <td>NaN</td>\n",
       "      <td>NaN</td>\n",
       "      <td>NaN</td>\n",
       "      <td>NaT</td>\n",
       "    </tr>\n",
       "    <tr>\n",
       "      <th>1434767</th>\n",
       "      <td>2024-06-01</td>\n",
       "      <td>S0VfS1VfIDI2NDUwMg==</td>\n",
       "      <td>S0VfS1VfMTYyNDYxMzEyOGN2S2tKTFZqeFk=</td>\n",
       "      <td>2022-02-12</td>\n",
       "      <td>2022-02-26</td>\n",
       "      <td>2022-04-30</td>\n",
       "      <td>KES</td>\n",
       "      <td>8000.0</td>\n",
       "      <td>0.075</td>\n",
       "      <td>2022-04-30</td>\n",
       "      <td>8960.0</td>\n",
       "      <td>NaT</td>\n",
       "      <td>NaN</td>\n",
       "      <td>ProLoan</td>\n",
       "      <td>360.0</td>\n",
       "      <td>0.0</td>\n",
       "      <td>8960.0</td>\n",
       "      <td>NaN</td>\n",
       "      <td>NaT</td>\n",
       "      <td>NaN</td>\n",
       "      <td>NaN</td>\n",
       "      <td>NaN</td>\n",
       "      <td>NaN</td>\n",
       "      <td>NaN</td>\n",
       "      <td>NaT</td>\n",
       "    </tr>\n",
       "  </tbody>\n",
       "</table>\n",
       "</div>"
      ],
      "text/plain": [
       "        as_of_datetime               loan_id  \\\n",
       "1434765     2024-10-01  S0VfS1VfIDI2NDUwMg==   \n",
       "1434760     2024-09-01  S0VfS1VfIDI2NDUwMg==   \n",
       "1434759     2024-08-01  S0VfS1VfIDI2NDUwMg==   \n",
       "1434758     2024-07-01  S0VfS1VfIDI2NDUwMg==   \n",
       "1434767     2024-06-01  S0VfS1VfIDI2NDUwMg==   \n",
       "\n",
       "                                  borrower_id issue_date maturity_date  \\\n",
       "1434765  S0VfS1VfMTYyNDYxMzEyOGN2S2tKTFZqeFk= 2022-02-12    2022-02-26   \n",
       "1434760  S0VfS1VfMTYyNDYxMzEyOGN2S2tKTFZqeFk= 2022-02-12    2022-02-26   \n",
       "1434759  S0VfS1VfMTYyNDYxMzEyOGN2S2tKTFZqeFk= 2022-02-12    2022-02-26   \n",
       "1434758  S0VfS1VfMTYyNDYxMzEyOGN2S2tKTFZqeFk= 2022-02-12    2022-02-26   \n",
       "1434767  S0VfS1VfMTYyNDYxMzEyOGN2S2tKTFZqeFk= 2022-02-12    2022-02-26   \n",
       "\n",
       "        closing_date currency  principal_amount  interest_rate write_off_date  \\\n",
       "1434765   2022-04-30      KES            8000.0          0.075     2022-04-30   \n",
       "1434760   2022-04-30      KES            8000.0          0.075     2022-04-30   \n",
       "1434759   2022-04-30      KES            8000.0          0.075     2022-04-30   \n",
       "1434758   2022-04-30      KES            8000.0          0.075     2022-04-30   \n",
       "1434767   2022-04-30      KES            8000.0          0.075     2022-04-30   \n",
       "\n",
       "         write_off_amount default_date  default_amount product_name  \\\n",
       "1434765            8960.0          NaT             NaN      ProLoan   \n",
       "1434760            8960.0          NaT             NaN      ProLoan   \n",
       "1434759            8960.0          NaT             NaN      ProLoan   \n",
       "1434758            8960.0          NaT             NaN      ProLoan   \n",
       "1434767            8960.0          NaT             NaN      ProLoan   \n",
       "\n",
       "         penalties  fees  total_outstanding payment_id payment_date  amount  \\\n",
       "1434765      360.0   0.0             8960.0        NaN          NaT     NaN   \n",
       "1434760      360.0   0.0             8960.0        NaN          NaT     NaN   \n",
       "1434759      360.0   0.0             8960.0        NaN          NaT     NaN   \n",
       "1434758      360.0   0.0             8960.0        NaN          NaT     NaN   \n",
       "1434767      360.0   0.0             8960.0        NaN          NaT     NaN   \n",
       "\n",
       "        type gender country geo_classification date_of_birth  \n",
       "1434765  NaN    NaN     NaN                NaN           NaT  \n",
       "1434760  NaN    NaN     NaN                NaN           NaT  \n",
       "1434759  NaN    NaN     NaN                NaN           NaT  \n",
       "1434758  NaN    NaN     NaN                NaN           NaT  \n",
       "1434767  NaN    NaN     NaN                NaN           NaT  "
      ]
     },
     "execution_count": 22,
     "metadata": {},
     "output_type": "execute_result"
    }
   ],
   "source": [
    "master_data.head()"
   ]
  },
  {
   "cell_type": "code",
   "execution_count": 23,
   "metadata": {},
   "outputs": [
    {
     "name": "stdout",
     "output_type": "stream",
     "text": [
      "<class 'pandas.core.frame.DataFrame'>\n",
      "Index: 2883610 entries, 1434765 to 1616093\n",
      "Data columns (total 25 columns):\n",
      " #   Column              Non-Null Count    Dtype         \n",
      "---  ------              --------------    -----         \n",
      " 0   as_of_datetime      2883610 non-null  datetime64[ns]\n",
      " 1   loan_id             2883610 non-null  object        \n",
      " 2   borrower_id         2870196 non-null  object        \n",
      " 3   issue_date          2883610 non-null  datetime64[ns]\n",
      " 4   maturity_date       2883610 non-null  datetime64[ns]\n",
      " 5   closing_date        2883428 non-null  datetime64[ns]\n",
      " 6   currency            2883610 non-null  category      \n",
      " 7   principal_amount    2883610 non-null  float64       \n",
      " 8   interest_rate       2883610 non-null  float64       \n",
      " 9   write_off_date      2440303 non-null  datetime64[ns]\n",
      " 10  write_off_amount    2440303 non-null  float64       \n",
      " 11  default_date        210 non-null      datetime64[ns]\n",
      " 12  default_amount      210 non-null      float64       \n",
      " 13  product_name        2883610 non-null  category      \n",
      " 14  penalties           2883610 non-null  float64       \n",
      " 15  fees                2883610 non-null  float64       \n",
      " 16  total_outstanding   2883610 non-null  float64       \n",
      " 17  payment_id          169029 non-null   category      \n",
      " 18  payment_date        169040 non-null   datetime64[ns]\n",
      " 19  amount              169040 non-null   float64       \n",
      " 20  type                169040 non-null   category      \n",
      " 21  gender              2596787 non-null  category      \n",
      " 22  country             2596787 non-null  category      \n",
      " 23  geo_classification  789157 non-null   category      \n",
      " 24  date_of_birth       2596787 non-null  datetime64[ns]\n",
      "dtypes: category(7), datetime64[ns](8), float64(8), object(2)\n",
      "memory usage: 617.8+ MB\n"
     ]
    }
   ],
   "source": [
    "master_data.info(show_counts=True)"
   ]
  },
  {
   "cell_type": "markdown",
   "metadata": {},
   "source": [
    "## Metrics"
   ]
  },
  {
   "cell_type": "code",
   "execution_count": 24,
   "metadata": {},
   "outputs": [],
   "source": [
    "metrics_df = master_data.copy() "
   ]
  },
  {
   "cell_type": "code",
   "execution_count": 25,
   "metadata": {},
   "outputs": [],
   "source": [
    "metrics_df = calculate_terms(metrics_df)"
   ]
  },
  {
   "cell_type": "markdown",
   "metadata": {},
   "source": [
    "### Write-off rate"
   ]
  },
  {
   "cell_type": "code",
   "execution_count": 26,
   "metadata": {},
   "outputs": [],
   "source": [
    "#dropping duplicates and keeping most recent instance of loan_id to calculate write_off amount & gross yield\n",
    "metrics_df = metrics_df.drop_duplicates(subset=['loan_id'], keep='first') "
   ]
  },
  {
   "cell_type": "code",
   "execution_count": 27,
   "metadata": {},
   "outputs": [
    {
     "name": "stdout",
     "output_type": "stream",
     "text": [
      "Write off rate is: 32.37%\n"
     ]
    }
   ],
   "source": [
    "#dropping out of bounds maturity_date\n",
    "metrics_df = metrics_df[metrics_df['loan_id'] != 'VUdfS1VfNDI2NQ==']\n",
    "\n",
    "write_off_rate = calculate_write_off_rate(metrics_df)\n",
    "print(f'Write off rate is: {write_off_rate:.2f}%')"
   ]
  },
  {
   "cell_type": "markdown",
   "metadata": {},
   "source": [
    "### Gross yield"
   ]
  },
  {
   "cell_type": "code",
   "execution_count": 28,
   "metadata": {},
   "outputs": [],
   "source": [
    "metrics_df = calculate_interest_metrics(metrics_df)"
   ]
  },
  {
   "cell_type": "code",
   "execution_count": 29,
   "metadata": {},
   "outputs": [
    {
     "name": "stdout",
     "output_type": "stream",
     "text": [
      "Gross yield is: 46.85%\n"
     ]
    }
   ],
   "source": [
    "total_actual_interest = metrics_df['actual_interest'].sum()\n",
    "total_principal_amount = metrics_df['principal_amount'].sum()\n",
    "\n",
    "gross_yield = (total_actual_interest / total_principal_amount) * 100\n",
    "print(f'Gross yield is: {gross_yield:.2f}%')"
   ]
  },
  {
   "cell_type": "markdown",
   "metadata": {},
   "source": [
    "### Collections Rate"
   ]
  },
  {
   "cell_type": "code",
   "execution_count": 30,
   "metadata": {},
   "outputs": [],
   "source": [
    "# df_no_write_offs = metrics_df[metrics_df['write_off_date'].isna()]\n",
    "# valid_payments = df_no_write_offs[(df_no_write_offs['amount'].notnull()) & (df_no_write_offs['total_outstanding'] < 0)]\n",
    "\n",
    "# total_collections = valid_payments['amount'].sum()\n",
    "# total_outstanding = metrics_df['total_outstanding'].sum()\n",
    "\n",
    "# collections_rate = total_collections / total_outstanding * 100"
   ]
  },
  {
   "cell_type": "markdown",
   "metadata": {},
   "source": [
    "### AVG days in arrears"
   ]
  },
  {
   "cell_type": "code",
   "execution_count": 31,
   "metadata": {},
   "outputs": [
    {
     "name": "stdout",
     "output_type": "stream",
     "text": [
      "Average Days in Arrears: 21.74 days\n"
     ]
    }
   ],
   "source": [
    "avg_days_in_arrears = calculate_avg_days_in_arrears(metrics_df)\n",
    "\n",
    "print(f\"Average Days in Arrears: {avg_days_in_arrears:.2f} days\")"
   ]
  }
 ],
 "metadata": {
  "kernelspec": {
   "display_name": ".venv_3_11",
   "language": "python",
   "name": "python3"
  },
  "language_info": {
   "codemirror_mode": {
    "name": "ipython",
    "version": 3
   },
   "file_extension": ".py",
   "mimetype": "text/x-python",
   "name": "python",
   "nbconvert_exporter": "python",
   "pygments_lexer": "ipython3",
   "version": "3.11.3"
  }
 },
 "nbformat": 4,
 "nbformat_minor": 2
}
